{
 "cells": [
  {
   "cell_type": "code",
   "execution_count": 218,
   "id": "3ac5bf9e",
   "metadata": {},
   "outputs": [],
   "source": [
    "import pandas as pd\n",
    "import numpy as np"
   ]
  },
  {
   "cell_type": "markdown",
   "id": "e620f30e",
   "metadata": {},
   "source": [
    "## Data Preparation"
   ]
  },
  {
   "cell_type": "code",
   "execution_count": 219,
   "id": "b778efd6",
   "metadata": {},
   "outputs": [],
   "source": [
    "data = pd.read_csv('housing.csv')"
   ]
  },
  {
   "cell_type": "code",
   "execution_count": 220,
   "id": "1ddd4cf0",
   "metadata": {},
   "outputs": [
    {
     "data": {
      "text/html": [
       "<div>\n",
       "<style scoped>\n",
       "    .dataframe tbody tr th:only-of-type {\n",
       "        vertical-align: middle;\n",
       "    }\n",
       "\n",
       "    .dataframe tbody tr th {\n",
       "        vertical-align: top;\n",
       "    }\n",
       "\n",
       "    .dataframe thead th {\n",
       "        text-align: right;\n",
       "    }\n",
       "</style>\n",
       "<table border=\"1\" class=\"dataframe\">\n",
       "  <thead>\n",
       "    <tr style=\"text-align: right;\">\n",
       "      <th></th>\n",
       "      <th>longitude</th>\n",
       "      <th>latitude</th>\n",
       "      <th>housing_median_age</th>\n",
       "      <th>total_rooms</th>\n",
       "      <th>total_bedrooms</th>\n",
       "      <th>population</th>\n",
       "      <th>households</th>\n",
       "      <th>median_income</th>\n",
       "      <th>median_house_value</th>\n",
       "      <th>ocean_proximity</th>\n",
       "    </tr>\n",
       "  </thead>\n",
       "  <tbody>\n",
       "    <tr>\n",
       "      <th>0</th>\n",
       "      <td>-122.23</td>\n",
       "      <td>37.88</td>\n",
       "      <td>41.0</td>\n",
       "      <td>880.0</td>\n",
       "      <td>129.0</td>\n",
       "      <td>322.0</td>\n",
       "      <td>126.0</td>\n",
       "      <td>8.3252</td>\n",
       "      <td>452600.0</td>\n",
       "      <td>NEAR BAY</td>\n",
       "    </tr>\n",
       "    <tr>\n",
       "      <th>1</th>\n",
       "      <td>-122.22</td>\n",
       "      <td>37.86</td>\n",
       "      <td>21.0</td>\n",
       "      <td>7099.0</td>\n",
       "      <td>1106.0</td>\n",
       "      <td>2401.0</td>\n",
       "      <td>1138.0</td>\n",
       "      <td>8.3014</td>\n",
       "      <td>358500.0</td>\n",
       "      <td>NEAR BAY</td>\n",
       "    </tr>\n",
       "    <tr>\n",
       "      <th>2</th>\n",
       "      <td>-122.24</td>\n",
       "      <td>37.85</td>\n",
       "      <td>52.0</td>\n",
       "      <td>1467.0</td>\n",
       "      <td>190.0</td>\n",
       "      <td>496.0</td>\n",
       "      <td>177.0</td>\n",
       "      <td>7.2574</td>\n",
       "      <td>352100.0</td>\n",
       "      <td>NEAR BAY</td>\n",
       "    </tr>\n",
       "    <tr>\n",
       "      <th>3</th>\n",
       "      <td>-122.25</td>\n",
       "      <td>37.85</td>\n",
       "      <td>52.0</td>\n",
       "      <td>1274.0</td>\n",
       "      <td>235.0</td>\n",
       "      <td>558.0</td>\n",
       "      <td>219.0</td>\n",
       "      <td>5.6431</td>\n",
       "      <td>341300.0</td>\n",
       "      <td>NEAR BAY</td>\n",
       "    </tr>\n",
       "    <tr>\n",
       "      <th>4</th>\n",
       "      <td>-122.25</td>\n",
       "      <td>37.85</td>\n",
       "      <td>52.0</td>\n",
       "      <td>1627.0</td>\n",
       "      <td>280.0</td>\n",
       "      <td>565.0</td>\n",
       "      <td>259.0</td>\n",
       "      <td>3.8462</td>\n",
       "      <td>342200.0</td>\n",
       "      <td>NEAR BAY</td>\n",
       "    </tr>\n",
       "  </tbody>\n",
       "</table>\n",
       "</div>"
      ],
      "text/plain": [
       "   longitude  latitude  housing_median_age  total_rooms  total_bedrooms  \\\n",
       "0    -122.23     37.88                41.0        880.0           129.0   \n",
       "1    -122.22     37.86                21.0       7099.0          1106.0   \n",
       "2    -122.24     37.85                52.0       1467.0           190.0   \n",
       "3    -122.25     37.85                52.0       1274.0           235.0   \n",
       "4    -122.25     37.85                52.0       1627.0           280.0   \n",
       "\n",
       "   population  households  median_income  median_house_value ocean_proximity  \n",
       "0       322.0       126.0         8.3252            452600.0        NEAR BAY  \n",
       "1      2401.0      1138.0         8.3014            358500.0        NEAR BAY  \n",
       "2       496.0       177.0         7.2574            352100.0        NEAR BAY  \n",
       "3       558.0       219.0         5.6431            341300.0        NEAR BAY  \n",
       "4       565.0       259.0         3.8462            342200.0        NEAR BAY  "
      ]
     },
     "execution_count": 220,
     "metadata": {},
     "output_type": "execute_result"
    }
   ],
   "source": [
    "data.head()"
   ]
  },
  {
   "cell_type": "code",
   "execution_count": 221,
   "id": "d75177c1",
   "metadata": {},
   "outputs": [],
   "source": [
    "columns = [\n",
    "    'latitude',\n",
    "    'longitude',\n",
    "    'housing_median_age',\n",
    "    'total_rooms',\n",
    "    'total_bedrooms',\n",
    "    'population',\n",
    "    'households',\n",
    "    'median_income',\n",
    "    'median_house_value',\n",
    "    'ocean_proximity'\n",
    "]"
   ]
  },
  {
   "cell_type": "code",
   "execution_count": 222,
   "id": "1357a8bf",
   "metadata": {},
   "outputs": [
    {
     "data": {
      "text/html": [
       "<div>\n",
       "<style scoped>\n",
       "    .dataframe tbody tr th:only-of-type {\n",
       "        vertical-align: middle;\n",
       "    }\n",
       "\n",
       "    .dataframe tbody tr th {\n",
       "        vertical-align: top;\n",
       "    }\n",
       "\n",
       "    .dataframe thead th {\n",
       "        text-align: right;\n",
       "    }\n",
       "</style>\n",
       "<table border=\"1\" class=\"dataframe\">\n",
       "  <thead>\n",
       "    <tr style=\"text-align: right;\">\n",
       "      <th></th>\n",
       "      <th>latitude</th>\n",
       "      <th>longitude</th>\n",
       "      <th>housing_median_age</th>\n",
       "      <th>total_rooms</th>\n",
       "      <th>total_bedrooms</th>\n",
       "      <th>population</th>\n",
       "      <th>households</th>\n",
       "      <th>median_income</th>\n",
       "      <th>median_house_value</th>\n",
       "      <th>ocean_proximity</th>\n",
       "    </tr>\n",
       "  </thead>\n",
       "  <tbody>\n",
       "    <tr>\n",
       "      <th>0</th>\n",
       "      <td>37.88</td>\n",
       "      <td>-122.23</td>\n",
       "      <td>41.0</td>\n",
       "      <td>880.0</td>\n",
       "      <td>129.0</td>\n",
       "      <td>322.0</td>\n",
       "      <td>126.0</td>\n",
       "      <td>8.3252</td>\n",
       "      <td>452600.0</td>\n",
       "      <td>NEAR BAY</td>\n",
       "    </tr>\n",
       "    <tr>\n",
       "      <th>1</th>\n",
       "      <td>37.86</td>\n",
       "      <td>-122.22</td>\n",
       "      <td>21.0</td>\n",
       "      <td>7099.0</td>\n",
       "      <td>1106.0</td>\n",
       "      <td>2401.0</td>\n",
       "      <td>1138.0</td>\n",
       "      <td>8.3014</td>\n",
       "      <td>358500.0</td>\n",
       "      <td>NEAR BAY</td>\n",
       "    </tr>\n",
       "    <tr>\n",
       "      <th>2</th>\n",
       "      <td>37.85</td>\n",
       "      <td>-122.24</td>\n",
       "      <td>52.0</td>\n",
       "      <td>1467.0</td>\n",
       "      <td>190.0</td>\n",
       "      <td>496.0</td>\n",
       "      <td>177.0</td>\n",
       "      <td>7.2574</td>\n",
       "      <td>352100.0</td>\n",
       "      <td>NEAR BAY</td>\n",
       "    </tr>\n",
       "    <tr>\n",
       "      <th>3</th>\n",
       "      <td>37.85</td>\n",
       "      <td>-122.25</td>\n",
       "      <td>52.0</td>\n",
       "      <td>1274.0</td>\n",
       "      <td>235.0</td>\n",
       "      <td>558.0</td>\n",
       "      <td>219.0</td>\n",
       "      <td>5.6431</td>\n",
       "      <td>341300.0</td>\n",
       "      <td>NEAR BAY</td>\n",
       "    </tr>\n",
       "    <tr>\n",
       "      <th>4</th>\n",
       "      <td>37.85</td>\n",
       "      <td>-122.25</td>\n",
       "      <td>52.0</td>\n",
       "      <td>1627.0</td>\n",
       "      <td>280.0</td>\n",
       "      <td>565.0</td>\n",
       "      <td>259.0</td>\n",
       "      <td>3.8462</td>\n",
       "      <td>342200.0</td>\n",
       "      <td>NEAR BAY</td>\n",
       "    </tr>\n",
       "    <tr>\n",
       "      <th>...</th>\n",
       "      <td>...</td>\n",
       "      <td>...</td>\n",
       "      <td>...</td>\n",
       "      <td>...</td>\n",
       "      <td>...</td>\n",
       "      <td>...</td>\n",
       "      <td>...</td>\n",
       "      <td>...</td>\n",
       "      <td>...</td>\n",
       "      <td>...</td>\n",
       "    </tr>\n",
       "    <tr>\n",
       "      <th>20635</th>\n",
       "      <td>39.48</td>\n",
       "      <td>-121.09</td>\n",
       "      <td>25.0</td>\n",
       "      <td>1665.0</td>\n",
       "      <td>374.0</td>\n",
       "      <td>845.0</td>\n",
       "      <td>330.0</td>\n",
       "      <td>1.5603</td>\n",
       "      <td>78100.0</td>\n",
       "      <td>INLAND</td>\n",
       "    </tr>\n",
       "    <tr>\n",
       "      <th>20636</th>\n",
       "      <td>39.49</td>\n",
       "      <td>-121.21</td>\n",
       "      <td>18.0</td>\n",
       "      <td>697.0</td>\n",
       "      <td>150.0</td>\n",
       "      <td>356.0</td>\n",
       "      <td>114.0</td>\n",
       "      <td>2.5568</td>\n",
       "      <td>77100.0</td>\n",
       "      <td>INLAND</td>\n",
       "    </tr>\n",
       "    <tr>\n",
       "      <th>20637</th>\n",
       "      <td>39.43</td>\n",
       "      <td>-121.22</td>\n",
       "      <td>17.0</td>\n",
       "      <td>2254.0</td>\n",
       "      <td>485.0</td>\n",
       "      <td>1007.0</td>\n",
       "      <td>433.0</td>\n",
       "      <td>1.7000</td>\n",
       "      <td>92300.0</td>\n",
       "      <td>INLAND</td>\n",
       "    </tr>\n",
       "    <tr>\n",
       "      <th>20638</th>\n",
       "      <td>39.43</td>\n",
       "      <td>-121.32</td>\n",
       "      <td>18.0</td>\n",
       "      <td>1860.0</td>\n",
       "      <td>409.0</td>\n",
       "      <td>741.0</td>\n",
       "      <td>349.0</td>\n",
       "      <td>1.8672</td>\n",
       "      <td>84700.0</td>\n",
       "      <td>INLAND</td>\n",
       "    </tr>\n",
       "    <tr>\n",
       "      <th>20639</th>\n",
       "      <td>39.37</td>\n",
       "      <td>-121.24</td>\n",
       "      <td>16.0</td>\n",
       "      <td>2785.0</td>\n",
       "      <td>616.0</td>\n",
       "      <td>1387.0</td>\n",
       "      <td>530.0</td>\n",
       "      <td>2.3886</td>\n",
       "      <td>89400.0</td>\n",
       "      <td>INLAND</td>\n",
       "    </tr>\n",
       "  </tbody>\n",
       "</table>\n",
       "<p>20640 rows × 10 columns</p>\n",
       "</div>"
      ],
      "text/plain": [
       "       latitude  longitude  housing_median_age  total_rooms  total_bedrooms  \\\n",
       "0         37.88    -122.23                41.0        880.0           129.0   \n",
       "1         37.86    -122.22                21.0       7099.0          1106.0   \n",
       "2         37.85    -122.24                52.0       1467.0           190.0   \n",
       "3         37.85    -122.25                52.0       1274.0           235.0   \n",
       "4         37.85    -122.25                52.0       1627.0           280.0   \n",
       "...         ...        ...                 ...          ...             ...   \n",
       "20635     39.48    -121.09                25.0       1665.0           374.0   \n",
       "20636     39.49    -121.21                18.0        697.0           150.0   \n",
       "20637     39.43    -121.22                17.0       2254.0           485.0   \n",
       "20638     39.43    -121.32                18.0       1860.0           409.0   \n",
       "20639     39.37    -121.24                16.0       2785.0           616.0   \n",
       "\n",
       "       population  households  median_income  median_house_value  \\\n",
       "0           322.0       126.0         8.3252            452600.0   \n",
       "1          2401.0      1138.0         8.3014            358500.0   \n",
       "2           496.0       177.0         7.2574            352100.0   \n",
       "3           558.0       219.0         5.6431            341300.0   \n",
       "4           565.0       259.0         3.8462            342200.0   \n",
       "...           ...         ...            ...                 ...   \n",
       "20635       845.0       330.0         1.5603             78100.0   \n",
       "20636       356.0       114.0         2.5568             77100.0   \n",
       "20637      1007.0       433.0         1.7000             92300.0   \n",
       "20638       741.0       349.0         1.8672             84700.0   \n",
       "20639      1387.0       530.0         2.3886             89400.0   \n",
       "\n",
       "      ocean_proximity  \n",
       "0            NEAR BAY  \n",
       "1            NEAR BAY  \n",
       "2            NEAR BAY  \n",
       "3            NEAR BAY  \n",
       "4            NEAR BAY  \n",
       "...               ...  \n",
       "20635          INLAND  \n",
       "20636          INLAND  \n",
       "20637          INLAND  \n",
       "20638          INLAND  \n",
       "20639          INLAND  \n",
       "\n",
       "[20640 rows x 10 columns]"
      ]
     },
     "execution_count": 222,
     "metadata": {},
     "output_type": "execute_result"
    }
   ],
   "source": [
    "df = data[columns]\n",
    "df"
   ]
  },
  {
   "cell_type": "code",
   "execution_count": 223,
   "id": "aee122e4",
   "metadata": {},
   "outputs": [
    {
     "data": {
      "text/plain": [
       "latitude                0\n",
       "longitude               0\n",
       "housing_median_age      0\n",
       "total_rooms             0\n",
       "total_bedrooms        207\n",
       "population              0\n",
       "households              0\n",
       "median_income           0\n",
       "median_house_value      0\n",
       "ocean_proximity         0\n",
       "dtype: int64"
      ]
     },
     "execution_count": 223,
     "metadata": {},
     "output_type": "execute_result"
    }
   ],
   "source": [
    "df.isna().sum()"
   ]
  },
  {
   "cell_type": "code",
   "execution_count": 224,
   "id": "a8fda5c7",
   "metadata": {},
   "outputs": [],
   "source": [
    "df.fillna(0, inplace = True)"
   ]
  },
  {
   "cell_type": "code",
   "execution_count": 225,
   "id": "dc59848d",
   "metadata": {},
   "outputs": [],
   "source": [
    "df['rooms_per_household'] = df['total_rooms'] / df['households']\n",
    "df['bedrooms_per_room'] = df['total_bedrooms'] / df['total_rooms'] \n",
    "df['population_per_household'] = df['population'] / df['households']"
   ]
  },
  {
   "cell_type": "code",
   "execution_count": 14,
   "id": "edb96434",
   "metadata": {},
   "outputs": [
    {
     "data": {
      "text/html": [
       "<div>\n",
       "<style scoped>\n",
       "    .dataframe tbody tr th:only-of-type {\n",
       "        vertical-align: middle;\n",
       "    }\n",
       "\n",
       "    .dataframe tbody tr th {\n",
       "        vertical-align: top;\n",
       "    }\n",
       "\n",
       "    .dataframe thead th {\n",
       "        text-align: right;\n",
       "    }\n",
       "</style>\n",
       "<table border=\"1\" class=\"dataframe\">\n",
       "  <thead>\n",
       "    <tr style=\"text-align: right;\">\n",
       "      <th></th>\n",
       "      <th>latitude</th>\n",
       "      <th>longitude</th>\n",
       "      <th>housing_median_age</th>\n",
       "      <th>total_rooms</th>\n",
       "      <th>total_bedrooms</th>\n",
       "      <th>population</th>\n",
       "      <th>households</th>\n",
       "      <th>median_income</th>\n",
       "      <th>median_house_value</th>\n",
       "      <th>ocean_proximity</th>\n",
       "      <th>rooms_per_household</th>\n",
       "      <th>bedrooms_per_room</th>\n",
       "      <th>population_per_household</th>\n",
       "    </tr>\n",
       "  </thead>\n",
       "  <tbody>\n",
       "    <tr>\n",
       "      <th>0</th>\n",
       "      <td>37.88</td>\n",
       "      <td>-122.23</td>\n",
       "      <td>41.0</td>\n",
       "      <td>880.0</td>\n",
       "      <td>129.0</td>\n",
       "      <td>322.0</td>\n",
       "      <td>126.0</td>\n",
       "      <td>8.3252</td>\n",
       "      <td>452600.0</td>\n",
       "      <td>NEAR BAY</td>\n",
       "      <td>6.984127</td>\n",
       "      <td>0.146591</td>\n",
       "      <td>2.555556</td>\n",
       "    </tr>\n",
       "    <tr>\n",
       "      <th>1</th>\n",
       "      <td>37.86</td>\n",
       "      <td>-122.22</td>\n",
       "      <td>21.0</td>\n",
       "      <td>7099.0</td>\n",
       "      <td>1106.0</td>\n",
       "      <td>2401.0</td>\n",
       "      <td>1138.0</td>\n",
       "      <td>8.3014</td>\n",
       "      <td>358500.0</td>\n",
       "      <td>NEAR BAY</td>\n",
       "      <td>6.238137</td>\n",
       "      <td>0.155797</td>\n",
       "      <td>2.109842</td>\n",
       "    </tr>\n",
       "    <tr>\n",
       "      <th>2</th>\n",
       "      <td>37.85</td>\n",
       "      <td>-122.24</td>\n",
       "      <td>52.0</td>\n",
       "      <td>1467.0</td>\n",
       "      <td>190.0</td>\n",
       "      <td>496.0</td>\n",
       "      <td>177.0</td>\n",
       "      <td>7.2574</td>\n",
       "      <td>352100.0</td>\n",
       "      <td>NEAR BAY</td>\n",
       "      <td>8.288136</td>\n",
       "      <td>0.129516</td>\n",
       "      <td>2.802260</td>\n",
       "    </tr>\n",
       "    <tr>\n",
       "      <th>3</th>\n",
       "      <td>37.85</td>\n",
       "      <td>-122.25</td>\n",
       "      <td>52.0</td>\n",
       "      <td>1274.0</td>\n",
       "      <td>235.0</td>\n",
       "      <td>558.0</td>\n",
       "      <td>219.0</td>\n",
       "      <td>5.6431</td>\n",
       "      <td>341300.0</td>\n",
       "      <td>NEAR BAY</td>\n",
       "      <td>5.817352</td>\n",
       "      <td>0.184458</td>\n",
       "      <td>2.547945</td>\n",
       "    </tr>\n",
       "    <tr>\n",
       "      <th>4</th>\n",
       "      <td>37.85</td>\n",
       "      <td>-122.25</td>\n",
       "      <td>52.0</td>\n",
       "      <td>1627.0</td>\n",
       "      <td>280.0</td>\n",
       "      <td>565.0</td>\n",
       "      <td>259.0</td>\n",
       "      <td>3.8462</td>\n",
       "      <td>342200.0</td>\n",
       "      <td>NEAR BAY</td>\n",
       "      <td>6.281853</td>\n",
       "      <td>0.172096</td>\n",
       "      <td>2.181467</td>\n",
       "    </tr>\n",
       "    <tr>\n",
       "      <th>...</th>\n",
       "      <td>...</td>\n",
       "      <td>...</td>\n",
       "      <td>...</td>\n",
       "      <td>...</td>\n",
       "      <td>...</td>\n",
       "      <td>...</td>\n",
       "      <td>...</td>\n",
       "      <td>...</td>\n",
       "      <td>...</td>\n",
       "      <td>...</td>\n",
       "      <td>...</td>\n",
       "      <td>...</td>\n",
       "      <td>...</td>\n",
       "    </tr>\n",
       "    <tr>\n",
       "      <th>20635</th>\n",
       "      <td>39.48</td>\n",
       "      <td>-121.09</td>\n",
       "      <td>25.0</td>\n",
       "      <td>1665.0</td>\n",
       "      <td>374.0</td>\n",
       "      <td>845.0</td>\n",
       "      <td>330.0</td>\n",
       "      <td>1.5603</td>\n",
       "      <td>78100.0</td>\n",
       "      <td>INLAND</td>\n",
       "      <td>5.045455</td>\n",
       "      <td>0.224625</td>\n",
       "      <td>2.560606</td>\n",
       "    </tr>\n",
       "    <tr>\n",
       "      <th>20636</th>\n",
       "      <td>39.49</td>\n",
       "      <td>-121.21</td>\n",
       "      <td>18.0</td>\n",
       "      <td>697.0</td>\n",
       "      <td>150.0</td>\n",
       "      <td>356.0</td>\n",
       "      <td>114.0</td>\n",
       "      <td>2.5568</td>\n",
       "      <td>77100.0</td>\n",
       "      <td>INLAND</td>\n",
       "      <td>6.114035</td>\n",
       "      <td>0.215208</td>\n",
       "      <td>3.122807</td>\n",
       "    </tr>\n",
       "    <tr>\n",
       "      <th>20637</th>\n",
       "      <td>39.43</td>\n",
       "      <td>-121.22</td>\n",
       "      <td>17.0</td>\n",
       "      <td>2254.0</td>\n",
       "      <td>485.0</td>\n",
       "      <td>1007.0</td>\n",
       "      <td>433.0</td>\n",
       "      <td>1.7000</td>\n",
       "      <td>92300.0</td>\n",
       "      <td>INLAND</td>\n",
       "      <td>5.205543</td>\n",
       "      <td>0.215173</td>\n",
       "      <td>2.325635</td>\n",
       "    </tr>\n",
       "    <tr>\n",
       "      <th>20638</th>\n",
       "      <td>39.43</td>\n",
       "      <td>-121.32</td>\n",
       "      <td>18.0</td>\n",
       "      <td>1860.0</td>\n",
       "      <td>409.0</td>\n",
       "      <td>741.0</td>\n",
       "      <td>349.0</td>\n",
       "      <td>1.8672</td>\n",
       "      <td>84700.0</td>\n",
       "      <td>INLAND</td>\n",
       "      <td>5.329513</td>\n",
       "      <td>0.219892</td>\n",
       "      <td>2.123209</td>\n",
       "    </tr>\n",
       "    <tr>\n",
       "      <th>20639</th>\n",
       "      <td>39.37</td>\n",
       "      <td>-121.24</td>\n",
       "      <td>16.0</td>\n",
       "      <td>2785.0</td>\n",
       "      <td>616.0</td>\n",
       "      <td>1387.0</td>\n",
       "      <td>530.0</td>\n",
       "      <td>2.3886</td>\n",
       "      <td>89400.0</td>\n",
       "      <td>INLAND</td>\n",
       "      <td>5.254717</td>\n",
       "      <td>0.221185</td>\n",
       "      <td>2.616981</td>\n",
       "    </tr>\n",
       "  </tbody>\n",
       "</table>\n",
       "<p>20640 rows × 13 columns</p>\n",
       "</div>"
      ],
      "text/plain": [
       "       latitude  longitude  housing_median_age  total_rooms  total_bedrooms  \\\n",
       "0         37.88    -122.23                41.0        880.0           129.0   \n",
       "1         37.86    -122.22                21.0       7099.0          1106.0   \n",
       "2         37.85    -122.24                52.0       1467.0           190.0   \n",
       "3         37.85    -122.25                52.0       1274.0           235.0   \n",
       "4         37.85    -122.25                52.0       1627.0           280.0   \n",
       "...         ...        ...                 ...          ...             ...   \n",
       "20635     39.48    -121.09                25.0       1665.0           374.0   \n",
       "20636     39.49    -121.21                18.0        697.0           150.0   \n",
       "20637     39.43    -121.22                17.0       2254.0           485.0   \n",
       "20638     39.43    -121.32                18.0       1860.0           409.0   \n",
       "20639     39.37    -121.24                16.0       2785.0           616.0   \n",
       "\n",
       "       population  households  median_income  median_house_value  \\\n",
       "0           322.0       126.0         8.3252            452600.0   \n",
       "1          2401.0      1138.0         8.3014            358500.0   \n",
       "2           496.0       177.0         7.2574            352100.0   \n",
       "3           558.0       219.0         5.6431            341300.0   \n",
       "4           565.0       259.0         3.8462            342200.0   \n",
       "...           ...         ...            ...                 ...   \n",
       "20635       845.0       330.0         1.5603             78100.0   \n",
       "20636       356.0       114.0         2.5568             77100.0   \n",
       "20637      1007.0       433.0         1.7000             92300.0   \n",
       "20638       741.0       349.0         1.8672             84700.0   \n",
       "20639      1387.0       530.0         2.3886             89400.0   \n",
       "\n",
       "      ocean_proximity  rooms_per_household  bedrooms_per_room  \\\n",
       "0            NEAR BAY             6.984127           0.146591   \n",
       "1            NEAR BAY             6.238137           0.155797   \n",
       "2            NEAR BAY             8.288136           0.129516   \n",
       "3            NEAR BAY             5.817352           0.184458   \n",
       "4            NEAR BAY             6.281853           0.172096   \n",
       "...               ...                  ...                ...   \n",
       "20635          INLAND             5.045455           0.224625   \n",
       "20636          INLAND             6.114035           0.215208   \n",
       "20637          INLAND             5.205543           0.215173   \n",
       "20638          INLAND             5.329513           0.219892   \n",
       "20639          INLAND             5.254717           0.221185   \n",
       "\n",
       "       population_per_household  \n",
       "0                      2.555556  \n",
       "1                      2.109842  \n",
       "2                      2.802260  \n",
       "3                      2.547945  \n",
       "4                      2.181467  \n",
       "...                         ...  \n",
       "20635                  2.560606  \n",
       "20636                  3.122807  \n",
       "20637                  2.325635  \n",
       "20638                  2.123209  \n",
       "20639                  2.616981  \n",
       "\n",
       "[20640 rows x 13 columns]"
      ]
     },
     "execution_count": 14,
     "metadata": {},
     "output_type": "execute_result"
    }
   ],
   "source": [
    "df."
   ]
  },
  {
   "cell_type": "markdown",
   "id": "76c80948",
   "metadata": {},
   "source": [
    "## Question 1\n",
    "\n",
    "What is the most frequent observation (mode) for the column ocean_proximity?\n",
    "\n",
    "Options:\n",
    "\n",
    "- NEAR BAY\n",
    "- <1H OCEAN\n",
    "- INLAND\n",
    "- NEAR OCEAN"
   ]
  },
  {
   "cell_type": "code",
   "execution_count": 27,
   "id": "ce0597d6",
   "metadata": {},
   "outputs": [
    {
     "data": {
      "text/plain": [
       "ocean_proximity\n",
       "<1H OCEAN     9136\n",
       "INLAND        6551\n",
       "NEAR OCEAN    2658\n",
       "NEAR BAY      2290\n",
       "ISLAND           5\n",
       "Name: ocean_proximity, dtype: int64"
      ]
     },
     "execution_count": 27,
     "metadata": {},
     "output_type": "execute_result"
    }
   ],
   "source": [
    "df.groupby(\"ocean_proximity\")[\"ocean_proximity\"].count().sort_values(ascending=False)"
   ]
  },
  {
   "cell_type": "markdown",
   "id": "c5d82d97",
   "metadata": {},
   "source": [
    "Answer: <1H OCEAN"
   ]
  },
  {
   "cell_type": "markdown",
   "id": "dac069fd",
   "metadata": {},
   "source": [
    "### Split the Data"
   ]
  },
  {
   "cell_type": "code",
   "execution_count": 171,
   "id": "91d6333e",
   "metadata": {},
   "outputs": [],
   "source": [
    "from sklearn.model_selection import train_test_split"
   ]
  },
  {
   "cell_type": "code",
   "execution_count": 172,
   "id": "f7329432",
   "metadata": {},
   "outputs": [],
   "source": [
    "df_fulltrain, df_test = train_test_split(df, test_size = 0.2, random_state = 42)"
   ]
  },
  {
   "cell_type": "code",
   "execution_count": 173,
   "id": "1620f681",
   "metadata": {},
   "outputs": [
    {
     "data": {
      "text/plain": [
       "(16512, 4128)"
      ]
     },
     "execution_count": 173,
     "metadata": {},
     "output_type": "execute_result"
    }
   ],
   "source": [
    "len(df_fulltrain), len(df_test)"
   ]
  },
  {
   "cell_type": "code",
   "execution_count": 174,
   "id": "dab311f0",
   "metadata": {},
   "outputs": [],
   "source": [
    "df_train, df_val = train_test_split(df_fulltrain, test_size = 0.25, random_state = 42)"
   ]
  },
  {
   "cell_type": "code",
   "execution_count": 175,
   "id": "d0c9c28c",
   "metadata": {},
   "outputs": [
    {
     "data": {
      "text/plain": [
       "(12384, 4128, 4128)"
      ]
     },
     "execution_count": 175,
     "metadata": {},
     "output_type": "execute_result"
    }
   ],
   "source": [
    "len(df_train), len(df_val), len(df_test)"
   ]
  },
  {
   "cell_type": "code",
   "execution_count": 176,
   "id": "f363cefc",
   "metadata": {},
   "outputs": [],
   "source": [
    "df_fulltrain = df_fulltrain.reset_index(drop = True)\n",
    "df_train = df_train.reset_index(drop = True)\n",
    "df_val = df_val.reset_index(drop = True)\n",
    "df_test = df_test.reset_index(drop = True)"
   ]
  },
  {
   "cell_type": "code",
   "execution_count": 177,
   "id": "20d4a226",
   "metadata": {},
   "outputs": [],
   "source": [
    "y_fulltrain = df_fulltrain['median_house_value']\n",
    "y_train = df_train['median_house_value']\n",
    "y_val = df_val['median_house_value']\n",
    "y_test = df_test['median_house_value']"
   ]
  },
  {
   "cell_type": "code",
   "execution_count": 178,
   "id": "954605c0",
   "metadata": {},
   "outputs": [],
   "source": [
    "del df_fulltrain['median_house_value']\n",
    "del df_train['median_house_value']\n",
    "del df_val['median_house_value']\n",
    "del df_test['median_house_value']"
   ]
  },
  {
   "cell_type": "markdown",
   "id": "56cb215f",
   "metadata": {},
   "source": [
    "## Question 2\n",
    "\n",
    "Create the correlation matrix for the numerical features of your train dataset.\n",
    "In a correlation matrix, you compute the correlation coefficient between every pair of features in the dataset.\n",
    "What are the two features that have the biggest correlation in this dataset?\n",
    "\n",
    "Options:\n",
    "\n",
    "- total_bedrooms and households\n",
    "- total_bedrooms and total_rooms\n",
    "- population and households\n",
    "- population_per_household and total_rooms"
   ]
  },
  {
   "cell_type": "code",
   "execution_count": 179,
   "id": "e2b4b5b2",
   "metadata": {},
   "outputs": [
    {
     "data": {
      "text/html": [
       "<div>\n",
       "<style scoped>\n",
       "    .dataframe tbody tr th:only-of-type {\n",
       "        vertical-align: middle;\n",
       "    }\n",
       "\n",
       "    .dataframe tbody tr th {\n",
       "        vertical-align: top;\n",
       "    }\n",
       "\n",
       "    .dataframe thead th {\n",
       "        text-align: right;\n",
       "    }\n",
       "</style>\n",
       "<table border=\"1\" class=\"dataframe\">\n",
       "  <thead>\n",
       "    <tr style=\"text-align: right;\">\n",
       "      <th></th>\n",
       "      <th>latitude</th>\n",
       "      <th>longitude</th>\n",
       "      <th>housing_median_age</th>\n",
       "      <th>total_rooms</th>\n",
       "      <th>total_bedrooms</th>\n",
       "      <th>population</th>\n",
       "      <th>households</th>\n",
       "      <th>median_income</th>\n",
       "      <th>ocean_proximity</th>\n",
       "      <th>rooms_per_household</th>\n",
       "      <th>bedrooms_per_room</th>\n",
       "      <th>population_per_household</th>\n",
       "    </tr>\n",
       "  </thead>\n",
       "  <tbody>\n",
       "    <tr>\n",
       "      <th>0</th>\n",
       "      <td>34.43</td>\n",
       "      <td>-119.67</td>\n",
       "      <td>39.0</td>\n",
       "      <td>1467.0</td>\n",
       "      <td>381.0</td>\n",
       "      <td>1404.0</td>\n",
       "      <td>374.0</td>\n",
       "      <td>2.3681</td>\n",
       "      <td>&lt;1H OCEAN</td>\n",
       "      <td>3.922460</td>\n",
       "      <td>0.259714</td>\n",
       "      <td>3.754011</td>\n",
       "    </tr>\n",
       "    <tr>\n",
       "      <th>1</th>\n",
       "      <td>33.74</td>\n",
       "      <td>-118.32</td>\n",
       "      <td>24.0</td>\n",
       "      <td>6097.0</td>\n",
       "      <td>794.0</td>\n",
       "      <td>2248.0</td>\n",
       "      <td>806.0</td>\n",
       "      <td>10.1357</td>\n",
       "      <td>NEAR OCEAN</td>\n",
       "      <td>7.564516</td>\n",
       "      <td>0.130228</td>\n",
       "      <td>2.789082</td>\n",
       "    </tr>\n",
       "    <tr>\n",
       "      <th>2</th>\n",
       "      <td>39.13</td>\n",
       "      <td>-121.62</td>\n",
       "      <td>41.0</td>\n",
       "      <td>1317.0</td>\n",
       "      <td>309.0</td>\n",
       "      <td>856.0</td>\n",
       "      <td>337.0</td>\n",
       "      <td>1.6719</td>\n",
       "      <td>INLAND</td>\n",
       "      <td>3.908012</td>\n",
       "      <td>0.234624</td>\n",
       "      <td>2.540059</td>\n",
       "    </tr>\n",
       "    <tr>\n",
       "      <th>3</th>\n",
       "      <td>34.24</td>\n",
       "      <td>-118.63</td>\n",
       "      <td>9.0</td>\n",
       "      <td>4759.0</td>\n",
       "      <td>924.0</td>\n",
       "      <td>1884.0</td>\n",
       "      <td>915.0</td>\n",
       "      <td>4.8333</td>\n",
       "      <td>&lt;1H OCEAN</td>\n",
       "      <td>5.201093</td>\n",
       "      <td>0.194158</td>\n",
       "      <td>2.059016</td>\n",
       "    </tr>\n",
       "    <tr>\n",
       "      <th>4</th>\n",
       "      <td>37.52</td>\n",
       "      <td>-122.30</td>\n",
       "      <td>38.0</td>\n",
       "      <td>2769.0</td>\n",
       "      <td>387.0</td>\n",
       "      <td>994.0</td>\n",
       "      <td>395.0</td>\n",
       "      <td>5.5902</td>\n",
       "      <td>NEAR OCEAN</td>\n",
       "      <td>7.010127</td>\n",
       "      <td>0.139762</td>\n",
       "      <td>2.516456</td>\n",
       "    </tr>\n",
       "  </tbody>\n",
       "</table>\n",
       "</div>"
      ],
      "text/plain": [
       "   latitude  longitude  housing_median_age  total_rooms  total_bedrooms  \\\n",
       "0     34.43    -119.67                39.0       1467.0           381.0   \n",
       "1     33.74    -118.32                24.0       6097.0           794.0   \n",
       "2     39.13    -121.62                41.0       1317.0           309.0   \n",
       "3     34.24    -118.63                 9.0       4759.0           924.0   \n",
       "4     37.52    -122.30                38.0       2769.0           387.0   \n",
       "\n",
       "   population  households  median_income ocean_proximity  rooms_per_household  \\\n",
       "0      1404.0       374.0         2.3681       <1H OCEAN             3.922460   \n",
       "1      2248.0       806.0        10.1357      NEAR OCEAN             7.564516   \n",
       "2       856.0       337.0         1.6719          INLAND             3.908012   \n",
       "3      1884.0       915.0         4.8333       <1H OCEAN             5.201093   \n",
       "4       994.0       395.0         5.5902      NEAR OCEAN             7.010127   \n",
       "\n",
       "   bedrooms_per_room  population_per_household  \n",
       "0           0.259714                  3.754011  \n",
       "1           0.130228                  2.789082  \n",
       "2           0.234624                  2.540059  \n",
       "3           0.194158                  2.059016  \n",
       "4           0.139762                  2.516456  "
      ]
     },
     "execution_count": 179,
     "metadata": {},
     "output_type": "execute_result"
    }
   ],
   "source": [
    "df_train.head()"
   ]
  },
  {
   "cell_type": "code",
   "execution_count": 180,
   "id": "c68f38ed",
   "metadata": {},
   "outputs": [
    {
     "name": "stdout",
     "output_type": "stream",
     "text": [
      "<class 'pandas.core.frame.DataFrame'>\n",
      "RangeIndex: 12384 entries, 0 to 12383\n",
      "Data columns (total 12 columns):\n",
      " #   Column                    Non-Null Count  Dtype  \n",
      "---  ------                    --------------  -----  \n",
      " 0   latitude                  12384 non-null  float64\n",
      " 1   longitude                 12384 non-null  float64\n",
      " 2   housing_median_age        12384 non-null  float64\n",
      " 3   total_rooms               12384 non-null  float64\n",
      " 4   total_bedrooms            12384 non-null  float64\n",
      " 5   population                12384 non-null  float64\n",
      " 6   households                12384 non-null  float64\n",
      " 7   median_income             12384 non-null  float64\n",
      " 8   ocean_proximity           12384 non-null  object \n",
      " 9   rooms_per_household       12384 non-null  float64\n",
      " 10  bedrooms_per_room         12384 non-null  float64\n",
      " 11  population_per_household  12384 non-null  float64\n",
      "dtypes: float64(11), object(1)\n",
      "memory usage: 1.1+ MB\n"
     ]
    }
   ],
   "source": [
    "df_train.info()"
   ]
  },
  {
   "cell_type": "code",
   "execution_count": 181,
   "id": "7fb83535",
   "metadata": {},
   "outputs": [
    {
     "data": {
      "text/plain": [
       "array(['latitude', 'longitude', 'housing_median_age', 'total_rooms',\n",
       "       'total_bedrooms', 'population', 'households', 'median_income',\n",
       "       'median_house_value', 'ocean_proximity', 'rooms_per_household',\n",
       "       'bedrooms_per_room', 'population_per_household'], dtype=object)"
      ]
     },
     "execution_count": 181,
     "metadata": {},
     "output_type": "execute_result"
    }
   ],
   "source": [
    "df.columns.values"
   ]
  },
  {
   "cell_type": "code",
   "execution_count": 182,
   "id": "408bcdbc",
   "metadata": {},
   "outputs": [],
   "source": [
    "numerical = [\n",
    "    'latitude', 'longitude', 'housing_median_age', 'total_rooms',\n",
    "    'total_bedrooms', 'population', 'households', 'median_income',\n",
    "    'rooms_per_household','bedrooms_per_room', 'population_per_household'\n",
    "]\n",
    "\n",
    "categorical = [\n",
    "    'ocean_proximity'\n",
    "]"
   ]
  },
  {
   "cell_type": "code",
   "execution_count": 183,
   "id": "f96b5ecf",
   "metadata": {},
   "outputs": [],
   "source": [
    "corr_train = df_train.corr()"
   ]
  },
  {
   "cell_type": "code",
   "execution_count": 184,
   "id": "f96f651f",
   "metadata": {},
   "outputs": [
    {
     "data": {
      "text/html": [
       "<div>\n",
       "<style scoped>\n",
       "    .dataframe tbody tr th:only-of-type {\n",
       "        vertical-align: middle;\n",
       "    }\n",
       "\n",
       "    .dataframe tbody tr th {\n",
       "        vertical-align: top;\n",
       "    }\n",
       "\n",
       "    .dataframe thead th {\n",
       "        text-align: right;\n",
       "    }\n",
       "</style>\n",
       "<table border=\"1\" class=\"dataframe\">\n",
       "  <thead>\n",
       "    <tr style=\"text-align: right;\">\n",
       "      <th></th>\n",
       "      <th>latitude</th>\n",
       "      <th>longitude</th>\n",
       "      <th>housing_median_age</th>\n",
       "      <th>total_rooms</th>\n",
       "      <th>total_bedrooms</th>\n",
       "      <th>population</th>\n",
       "      <th>households</th>\n",
       "      <th>median_income</th>\n",
       "      <th>rooms_per_household</th>\n",
       "      <th>bedrooms_per_room</th>\n",
       "      <th>population_per_household</th>\n",
       "    </tr>\n",
       "  </thead>\n",
       "  <tbody>\n",
       "    <tr>\n",
       "      <th>latitude</th>\n",
       "      <td>-</td>\n",
       "      <td>-0.925005</td>\n",
       "      <td>0.002477</td>\n",
       "      <td>-0.025914</td>\n",
       "      <td>-0.05973</td>\n",
       "      <td>-0.100272</td>\n",
       "      <td>-0.063529</td>\n",
       "      <td>-0.076805</td>\n",
       "      <td>0.119118</td>\n",
       "      <td>-0.124507</td>\n",
       "      <td>-0.002301</td>\n",
       "    </tr>\n",
       "    <tr>\n",
       "      <th>longitude</th>\n",
       "      <td>-0.925005</td>\n",
       "      <td>-</td>\n",
       "      <td>-0.099812</td>\n",
       "      <td>0.036449</td>\n",
       "      <td>0.06384</td>\n",
       "      <td>0.09167</td>\n",
       "      <td>0.049762</td>\n",
       "      <td>-0.016426</td>\n",
       "      <td>-0.034814</td>\n",
       "      <td>0.10232</td>\n",
       "      <td>0.011022</td>\n",
       "    </tr>\n",
       "    <tr>\n",
       "      <th>housing_median_age</th>\n",
       "      <td>0.002477</td>\n",
       "      <td>-0.099812</td>\n",
       "      <td>-</td>\n",
       "      <td>-0.363522</td>\n",
       "      <td>-0.324156</td>\n",
       "      <td>-0.292476</td>\n",
       "      <td>-0.306119</td>\n",
       "      <td>-0.119591</td>\n",
       "      <td>-0.181275</td>\n",
       "      <td>0.129456</td>\n",
       "      <td>0.012167</td>\n",
       "    </tr>\n",
       "    <tr>\n",
       "      <th>total_rooms</th>\n",
       "      <td>-0.025914</td>\n",
       "      <td>0.036449</td>\n",
       "      <td>-0.363522</td>\n",
       "      <td>-</td>\n",
       "      <td>0.931546</td>\n",
       "      <td>0.853219</td>\n",
       "      <td>0.921441</td>\n",
       "      <td>0.198951</td>\n",
       "      <td>0.168926</td>\n",
       "      <td>-0.194185</td>\n",
       "      <td>-0.029452</td>\n",
       "    </tr>\n",
       "    <tr>\n",
       "      <th>total_bedrooms</th>\n",
       "      <td>-0.05973</td>\n",
       "      <td>0.06384</td>\n",
       "      <td>-0.324156</td>\n",
       "      <td>0.931546</td>\n",
       "      <td>-</td>\n",
       "      <td>0.87734</td>\n",
       "      <td>0.979399</td>\n",
       "      <td>-0.009833</td>\n",
       "      <td>0.010381</td>\n",
       "      <td>0.078094</td>\n",
       "      <td>-0.034301</td>\n",
       "    </tr>\n",
       "    <tr>\n",
       "      <th>population</th>\n",
       "      <td>-0.100272</td>\n",
       "      <td>0.09167</td>\n",
       "      <td>-0.292476</td>\n",
       "      <td>0.853219</td>\n",
       "      <td>0.87734</td>\n",
       "      <td>-</td>\n",
       "      <td>0.906841</td>\n",
       "      <td>-0.000849</td>\n",
       "      <td>-0.07621</td>\n",
       "      <td>0.031592</td>\n",
       "      <td>0.064998</td>\n",
       "    </tr>\n",
       "    <tr>\n",
       "      <th>households</th>\n",
       "      <td>-0.063529</td>\n",
       "      <td>0.049762</td>\n",
       "      <td>-0.306119</td>\n",
       "      <td>0.921441</td>\n",
       "      <td>0.979399</td>\n",
       "      <td>0.906841</td>\n",
       "      <td>-</td>\n",
       "      <td>0.011925</td>\n",
       "      <td>-0.085832</td>\n",
       "      <td>0.058004</td>\n",
       "      <td>-0.032522</td>\n",
       "    </tr>\n",
       "    <tr>\n",
       "      <th>median_income</th>\n",
       "      <td>-0.076805</td>\n",
       "      <td>-0.016426</td>\n",
       "      <td>-0.119591</td>\n",
       "      <td>0.198951</td>\n",
       "      <td>-0.009833</td>\n",
       "      <td>-0.000849</td>\n",
       "      <td>0.011925</td>\n",
       "      <td>-</td>\n",
       "      <td>0.394154</td>\n",
       "      <td>-0.616617</td>\n",
       "      <td>-0.000454</td>\n",
       "    </tr>\n",
       "    <tr>\n",
       "      <th>rooms_per_household</th>\n",
       "      <td>0.119118</td>\n",
       "      <td>-0.034814</td>\n",
       "      <td>-0.181275</td>\n",
       "      <td>0.168926</td>\n",
       "      <td>0.010381</td>\n",
       "      <td>-0.07621</td>\n",
       "      <td>-0.085832</td>\n",
       "      <td>0.394154</td>\n",
       "      <td>-</td>\n",
       "      <td>-0.500589</td>\n",
       "      <td>0.001801</td>\n",
       "    </tr>\n",
       "    <tr>\n",
       "      <th>bedrooms_per_room</th>\n",
       "      <td>-0.124507</td>\n",
       "      <td>0.10232</td>\n",
       "      <td>0.129456</td>\n",
       "      <td>-0.194185</td>\n",
       "      <td>0.078094</td>\n",
       "      <td>0.031592</td>\n",
       "      <td>0.058004</td>\n",
       "      <td>-0.616617</td>\n",
       "      <td>-0.500589</td>\n",
       "      <td>-</td>\n",
       "      <td>-0.002851</td>\n",
       "    </tr>\n",
       "    <tr>\n",
       "      <th>population_per_household</th>\n",
       "      <td>-0.002301</td>\n",
       "      <td>0.011022</td>\n",
       "      <td>0.012167</td>\n",
       "      <td>-0.029452</td>\n",
       "      <td>-0.034301</td>\n",
       "      <td>0.064998</td>\n",
       "      <td>-0.032522</td>\n",
       "      <td>-0.000454</td>\n",
       "      <td>0.001801</td>\n",
       "      <td>-0.002851</td>\n",
       "      <td>-</td>\n",
       "    </tr>\n",
       "  </tbody>\n",
       "</table>\n",
       "</div>"
      ],
      "text/plain": [
       "                          latitude longitude housing_median_age total_rooms  \\\n",
       "latitude                         - -0.925005           0.002477   -0.025914   \n",
       "longitude                -0.925005         -          -0.099812    0.036449   \n",
       "housing_median_age        0.002477 -0.099812                  -   -0.363522   \n",
       "total_rooms              -0.025914  0.036449          -0.363522           -   \n",
       "total_bedrooms            -0.05973   0.06384          -0.324156    0.931546   \n",
       "population               -0.100272   0.09167          -0.292476    0.853219   \n",
       "households               -0.063529  0.049762          -0.306119    0.921441   \n",
       "median_income            -0.076805 -0.016426          -0.119591    0.198951   \n",
       "rooms_per_household       0.119118 -0.034814          -0.181275    0.168926   \n",
       "bedrooms_per_room        -0.124507   0.10232           0.129456   -0.194185   \n",
       "population_per_household -0.002301  0.011022           0.012167   -0.029452   \n",
       "\n",
       "                         total_bedrooms population households median_income  \\\n",
       "latitude                       -0.05973  -0.100272  -0.063529     -0.076805   \n",
       "longitude                       0.06384    0.09167   0.049762     -0.016426   \n",
       "housing_median_age            -0.324156  -0.292476  -0.306119     -0.119591   \n",
       "total_rooms                    0.931546   0.853219   0.921441      0.198951   \n",
       "total_bedrooms                        -    0.87734   0.979399     -0.009833   \n",
       "population                      0.87734          -   0.906841     -0.000849   \n",
       "households                     0.979399   0.906841          -      0.011925   \n",
       "median_income                 -0.009833  -0.000849   0.011925             -   \n",
       "rooms_per_household            0.010381   -0.07621  -0.085832      0.394154   \n",
       "bedrooms_per_room              0.078094   0.031592   0.058004     -0.616617   \n",
       "population_per_household      -0.034301   0.064998  -0.032522     -0.000454   \n",
       "\n",
       "                         rooms_per_household bedrooms_per_room  \\\n",
       "latitude                            0.119118         -0.124507   \n",
       "longitude                          -0.034814           0.10232   \n",
       "housing_median_age                 -0.181275          0.129456   \n",
       "total_rooms                         0.168926         -0.194185   \n",
       "total_bedrooms                      0.010381          0.078094   \n",
       "population                          -0.07621          0.031592   \n",
       "households                         -0.085832          0.058004   \n",
       "median_income                       0.394154         -0.616617   \n",
       "rooms_per_household                        -         -0.500589   \n",
       "bedrooms_per_room                  -0.500589                 -   \n",
       "population_per_household            0.001801         -0.002851   \n",
       "\n",
       "                         population_per_household  \n",
       "latitude                                -0.002301  \n",
       "longitude                                0.011022  \n",
       "housing_median_age                       0.012167  \n",
       "total_rooms                             -0.029452  \n",
       "total_bedrooms                          -0.034301  \n",
       "population                               0.064998  \n",
       "households                              -0.032522  \n",
       "median_income                           -0.000454  \n",
       "rooms_per_household                      0.001801  \n",
       "bedrooms_per_room                       -0.002851  \n",
       "population_per_household                        -  "
      ]
     },
     "execution_count": 184,
     "metadata": {},
     "output_type": "execute_result"
    }
   ],
   "source": [
    "corr_train.replace(1,'-')"
   ]
  },
  {
   "cell_type": "markdown",
   "id": "b2e7eee0",
   "metadata": {},
   "source": [
    "Answer: total_bedrooms and households"
   ]
  },
  {
   "cell_type": "markdown",
   "id": "1405c5b8",
   "metadata": {},
   "source": [
    "### Make median_house_value binary"
   ]
  },
  {
   "cell_type": "code",
   "execution_count": 185,
   "id": "2b71d98c",
   "metadata": {},
   "outputs": [
    {
     "data": {
      "text/plain": [
       "206807.7419250646"
      ]
     },
     "execution_count": 185,
     "metadata": {},
     "output_type": "execute_result"
    }
   ],
   "source": [
    "y_train.mean()"
   ]
  },
  {
   "cell_type": "code",
   "execution_count": 186,
   "id": "c821469d",
   "metadata": {},
   "outputs": [
    {
     "data": {
      "text/plain": [
       "0        241400.0\n",
       "1        500001.0\n",
       "2         64100.0\n",
       "3        277200.0\n",
       "4        417000.0\n",
       "           ...   \n",
       "12379    154200.0\n",
       "12380    146400.0\n",
       "12381    215300.0\n",
       "12382    139000.0\n",
       "12383    181300.0\n",
       "Name: median_house_value, Length: 12384, dtype: float64"
      ]
     },
     "execution_count": 186,
     "metadata": {},
     "output_type": "execute_result"
    }
   ],
   "source": [
    "y_train"
   ]
  },
  {
   "cell_type": "code",
   "execution_count": 187,
   "id": "ebded57c",
   "metadata": {},
   "outputs": [
    {
     "data": {
      "text/plain": [
       "0         True\n",
       "1         True\n",
       "2        False\n",
       "3         True\n",
       "4         True\n",
       "         ...  \n",
       "12379    False\n",
       "12380    False\n",
       "12381     True\n",
       "12382    False\n",
       "12383    False\n",
       "Name: median_house_value, Length: 12384, dtype: bool"
      ]
     },
     "execution_count": 187,
     "metadata": {},
     "output_type": "execute_result"
    }
   ],
   "source": [
    "y_train > y_train.mean()"
   ]
  },
  {
   "cell_type": "code",
   "execution_count": 188,
   "id": "0b1c2de3",
   "metadata": {},
   "outputs": [],
   "source": [
    "above_average = y_train > y_train.mean()"
   ]
  },
  {
   "cell_type": "code",
   "execution_count": 189,
   "id": "0aa4b2cd",
   "metadata": {},
   "outputs": [],
   "source": [
    "above_average = above_average.astype(int)"
   ]
  },
  {
   "cell_type": "code",
   "execution_count": 190,
   "id": "c6251fc9",
   "metadata": {},
   "outputs": [
    {
     "data": {
      "text/plain": [
       "0        1\n",
       "1        1\n",
       "2        0\n",
       "3        1\n",
       "4        1\n",
       "        ..\n",
       "12379    0\n",
       "12380    0\n",
       "12381    1\n",
       "12382    0\n",
       "12383    0\n",
       "Name: median_house_value, Length: 12384, dtype: int64"
      ]
     },
     "execution_count": 190,
     "metadata": {},
     "output_type": "execute_result"
    }
   ],
   "source": [
    "above_average"
   ]
  },
  {
   "cell_type": "markdown",
   "id": "894cc27a",
   "metadata": {},
   "source": [
    "## Question 3\n",
    "Calculate the mutual information score with the (binarized) price for the categorical variable that we have. Use the training set only.\n",
    "What is the value of mutual information?\n",
    "Round it to 2 decimal digits using round(score, 2)\n",
    "\n",
    "Options:\n",
    "- 0.26\n",
    "- 0\n",
    "- 0.10\n",
    "- 0.16"
   ]
  },
  {
   "cell_type": "code",
   "execution_count": 191,
   "id": "33b23f52",
   "metadata": {},
   "outputs": [],
   "source": [
    "from sklearn.metrics import mutual_info_score"
   ]
  },
  {
   "cell_type": "code",
   "execution_count": 192,
   "id": "591cfdc2",
   "metadata": {},
   "outputs": [
    {
     "data": {
      "text/plain": [
       "0.10138385763624205"
      ]
     },
     "execution_count": 192,
     "metadata": {},
     "output_type": "execute_result"
    }
   ],
   "source": [
    "mutual_info_score(above_average, df_train[categorical].squeeze())"
   ]
  },
  {
   "cell_type": "markdown",
   "id": "ac2138c7",
   "metadata": {},
   "source": [
    "Answer: 0.10"
   ]
  },
  {
   "cell_type": "markdown",
   "id": "b34a26a9",
   "metadata": {},
   "source": [
    "## Question 4\n",
    "Now let's train a logistic regression\n",
    "Remember that we have one categorical variable ocean_proximity in the data. Include it using one-hot encoding.\n",
    "Fit the model on the training dataset.\n",
    "To make sure the results are reproducible across different versions of Scikit-Learn, fit the model with these parameters:\n",
    "model = LogisticRegression(solver=\"liblinear\", C=1.0, max_iter=1000, random_state=42)\n",
    "Calculate the accuracy on the validation dataset and round it to 2 decimal digits.\n",
    "\n",
    "Options:\n",
    "- 0.60\n",
    "- 0.72\n",
    "- 0.84\n",
    "- 0.95"
   ]
  },
  {
   "cell_type": "code",
   "execution_count": 252,
   "id": "ccca30d9",
   "metadata": {},
   "outputs": [
    {
     "data": {
      "text/html": [
       "<div>\n",
       "<style scoped>\n",
       "    .dataframe tbody tr th:only-of-type {\n",
       "        vertical-align: middle;\n",
       "    }\n",
       "\n",
       "    .dataframe tbody tr th {\n",
       "        vertical-align: top;\n",
       "    }\n",
       "\n",
       "    .dataframe thead th {\n",
       "        text-align: right;\n",
       "    }\n",
       "</style>\n",
       "<table border=\"1\" class=\"dataframe\">\n",
       "  <thead>\n",
       "    <tr style=\"text-align: right;\">\n",
       "      <th></th>\n",
       "      <th>latitude</th>\n",
       "      <th>longitude</th>\n",
       "      <th>housing_median_age</th>\n",
       "      <th>total_rooms</th>\n",
       "      <th>total_bedrooms</th>\n",
       "      <th>population</th>\n",
       "      <th>households</th>\n",
       "      <th>median_income</th>\n",
       "      <th>median_house_value</th>\n",
       "      <th>ocean_proximity</th>\n",
       "      <th>rooms_per_household</th>\n",
       "      <th>bedrooms_per_room</th>\n",
       "      <th>population_per_household</th>\n",
       "    </tr>\n",
       "  </thead>\n",
       "  <tbody>\n",
       "    <tr>\n",
       "      <th>0</th>\n",
       "      <td>37.88</td>\n",
       "      <td>-122.23</td>\n",
       "      <td>41.0</td>\n",
       "      <td>880.0</td>\n",
       "      <td>129.0</td>\n",
       "      <td>322.0</td>\n",
       "      <td>126.0</td>\n",
       "      <td>8.3252</td>\n",
       "      <td>1</td>\n",
       "      <td>NEAR BAY</td>\n",
       "      <td>6.984127</td>\n",
       "      <td>0.146591</td>\n",
       "      <td>2.555556</td>\n",
       "    </tr>\n",
       "    <tr>\n",
       "      <th>1</th>\n",
       "      <td>37.86</td>\n",
       "      <td>-122.22</td>\n",
       "      <td>21.0</td>\n",
       "      <td>7099.0</td>\n",
       "      <td>1106.0</td>\n",
       "      <td>2401.0</td>\n",
       "      <td>1138.0</td>\n",
       "      <td>8.3014</td>\n",
       "      <td>1</td>\n",
       "      <td>NEAR BAY</td>\n",
       "      <td>6.238137</td>\n",
       "      <td>0.155797</td>\n",
       "      <td>2.109842</td>\n",
       "    </tr>\n",
       "    <tr>\n",
       "      <th>2</th>\n",
       "      <td>37.85</td>\n",
       "      <td>-122.24</td>\n",
       "      <td>52.0</td>\n",
       "      <td>1467.0</td>\n",
       "      <td>190.0</td>\n",
       "      <td>496.0</td>\n",
       "      <td>177.0</td>\n",
       "      <td>7.2574</td>\n",
       "      <td>1</td>\n",
       "      <td>NEAR BAY</td>\n",
       "      <td>8.288136</td>\n",
       "      <td>0.129516</td>\n",
       "      <td>2.802260</td>\n",
       "    </tr>\n",
       "    <tr>\n",
       "      <th>3</th>\n",
       "      <td>37.85</td>\n",
       "      <td>-122.25</td>\n",
       "      <td>52.0</td>\n",
       "      <td>1274.0</td>\n",
       "      <td>235.0</td>\n",
       "      <td>558.0</td>\n",
       "      <td>219.0</td>\n",
       "      <td>5.6431</td>\n",
       "      <td>1</td>\n",
       "      <td>NEAR BAY</td>\n",
       "      <td>5.817352</td>\n",
       "      <td>0.184458</td>\n",
       "      <td>2.547945</td>\n",
       "    </tr>\n",
       "    <tr>\n",
       "      <th>4</th>\n",
       "      <td>37.85</td>\n",
       "      <td>-122.25</td>\n",
       "      <td>52.0</td>\n",
       "      <td>1627.0</td>\n",
       "      <td>280.0</td>\n",
       "      <td>565.0</td>\n",
       "      <td>259.0</td>\n",
       "      <td>3.8462</td>\n",
       "      <td>1</td>\n",
       "      <td>NEAR BAY</td>\n",
       "      <td>6.281853</td>\n",
       "      <td>0.172096</td>\n",
       "      <td>2.181467</td>\n",
       "    </tr>\n",
       "    <tr>\n",
       "      <th>...</th>\n",
       "      <td>...</td>\n",
       "      <td>...</td>\n",
       "      <td>...</td>\n",
       "      <td>...</td>\n",
       "      <td>...</td>\n",
       "      <td>...</td>\n",
       "      <td>...</td>\n",
       "      <td>...</td>\n",
       "      <td>...</td>\n",
       "      <td>...</td>\n",
       "      <td>...</td>\n",
       "      <td>...</td>\n",
       "      <td>...</td>\n",
       "    </tr>\n",
       "    <tr>\n",
       "      <th>20635</th>\n",
       "      <td>39.48</td>\n",
       "      <td>-121.09</td>\n",
       "      <td>25.0</td>\n",
       "      <td>1665.0</td>\n",
       "      <td>374.0</td>\n",
       "      <td>845.0</td>\n",
       "      <td>330.0</td>\n",
       "      <td>1.5603</td>\n",
       "      <td>0</td>\n",
       "      <td>INLAND</td>\n",
       "      <td>5.045455</td>\n",
       "      <td>0.224625</td>\n",
       "      <td>2.560606</td>\n",
       "    </tr>\n",
       "    <tr>\n",
       "      <th>20636</th>\n",
       "      <td>39.49</td>\n",
       "      <td>-121.21</td>\n",
       "      <td>18.0</td>\n",
       "      <td>697.0</td>\n",
       "      <td>150.0</td>\n",
       "      <td>356.0</td>\n",
       "      <td>114.0</td>\n",
       "      <td>2.5568</td>\n",
       "      <td>0</td>\n",
       "      <td>INLAND</td>\n",
       "      <td>6.114035</td>\n",
       "      <td>0.215208</td>\n",
       "      <td>3.122807</td>\n",
       "    </tr>\n",
       "    <tr>\n",
       "      <th>20637</th>\n",
       "      <td>39.43</td>\n",
       "      <td>-121.22</td>\n",
       "      <td>17.0</td>\n",
       "      <td>2254.0</td>\n",
       "      <td>485.0</td>\n",
       "      <td>1007.0</td>\n",
       "      <td>433.0</td>\n",
       "      <td>1.7000</td>\n",
       "      <td>0</td>\n",
       "      <td>INLAND</td>\n",
       "      <td>5.205543</td>\n",
       "      <td>0.215173</td>\n",
       "      <td>2.325635</td>\n",
       "    </tr>\n",
       "    <tr>\n",
       "      <th>20638</th>\n",
       "      <td>39.43</td>\n",
       "      <td>-121.32</td>\n",
       "      <td>18.0</td>\n",
       "      <td>1860.0</td>\n",
       "      <td>409.0</td>\n",
       "      <td>741.0</td>\n",
       "      <td>349.0</td>\n",
       "      <td>1.8672</td>\n",
       "      <td>0</td>\n",
       "      <td>INLAND</td>\n",
       "      <td>5.329513</td>\n",
       "      <td>0.219892</td>\n",
       "      <td>2.123209</td>\n",
       "    </tr>\n",
       "    <tr>\n",
       "      <th>20639</th>\n",
       "      <td>39.37</td>\n",
       "      <td>-121.24</td>\n",
       "      <td>16.0</td>\n",
       "      <td>2785.0</td>\n",
       "      <td>616.0</td>\n",
       "      <td>1387.0</td>\n",
       "      <td>530.0</td>\n",
       "      <td>2.3886</td>\n",
       "      <td>0</td>\n",
       "      <td>INLAND</td>\n",
       "      <td>5.254717</td>\n",
       "      <td>0.221185</td>\n",
       "      <td>2.616981</td>\n",
       "    </tr>\n",
       "  </tbody>\n",
       "</table>\n",
       "<p>20640 rows × 13 columns</p>\n",
       "</div>"
      ],
      "text/plain": [
       "       latitude  longitude  housing_median_age  total_rooms  total_bedrooms  \\\n",
       "0         37.88    -122.23                41.0        880.0           129.0   \n",
       "1         37.86    -122.22                21.0       7099.0          1106.0   \n",
       "2         37.85    -122.24                52.0       1467.0           190.0   \n",
       "3         37.85    -122.25                52.0       1274.0           235.0   \n",
       "4         37.85    -122.25                52.0       1627.0           280.0   \n",
       "...         ...        ...                 ...          ...             ...   \n",
       "20635     39.48    -121.09                25.0       1665.0           374.0   \n",
       "20636     39.49    -121.21                18.0        697.0           150.0   \n",
       "20637     39.43    -121.22                17.0       2254.0           485.0   \n",
       "20638     39.43    -121.32                18.0       1860.0           409.0   \n",
       "20639     39.37    -121.24                16.0       2785.0           616.0   \n",
       "\n",
       "       population  households  median_income  median_house_value  \\\n",
       "0           322.0       126.0         8.3252                   1   \n",
       "1          2401.0      1138.0         8.3014                   1   \n",
       "2           496.0       177.0         7.2574                   1   \n",
       "3           558.0       219.0         5.6431                   1   \n",
       "4           565.0       259.0         3.8462                   1   \n",
       "...           ...         ...            ...                 ...   \n",
       "20635       845.0       330.0         1.5603                   0   \n",
       "20636       356.0       114.0         2.5568                   0   \n",
       "20637      1007.0       433.0         1.7000                   0   \n",
       "20638       741.0       349.0         1.8672                   0   \n",
       "20639      1387.0       530.0         2.3886                   0   \n",
       "\n",
       "      ocean_proximity  rooms_per_household  bedrooms_per_room  \\\n",
       "0            NEAR BAY             6.984127           0.146591   \n",
       "1            NEAR BAY             6.238137           0.155797   \n",
       "2            NEAR BAY             8.288136           0.129516   \n",
       "3            NEAR BAY             5.817352           0.184458   \n",
       "4            NEAR BAY             6.281853           0.172096   \n",
       "...               ...                  ...                ...   \n",
       "20635          INLAND             5.045455           0.224625   \n",
       "20636          INLAND             6.114035           0.215208   \n",
       "20637          INLAND             5.205543           0.215173   \n",
       "20638          INLAND             5.329513           0.219892   \n",
       "20639          INLAND             5.254717           0.221185   \n",
       "\n",
       "       population_per_household  \n",
       "0                      2.555556  \n",
       "1                      2.109842  \n",
       "2                      2.802260  \n",
       "3                      2.547945  \n",
       "4                      2.181467  \n",
       "...                         ...  \n",
       "20635                  2.560606  \n",
       "20636                  3.122807  \n",
       "20637                  2.325635  \n",
       "20638                  2.123209  \n",
       "20639                  2.616981  \n",
       "\n",
       "[20640 rows x 13 columns]"
      ]
     },
     "execution_count": 252,
     "metadata": {},
     "output_type": "execute_result"
    }
   ],
   "source": [
    "df"
   ]
  },
  {
   "cell_type": "code",
   "execution_count": 227,
   "id": "400fc6f8",
   "metadata": {},
   "outputs": [],
   "source": [
    "from sklearn.model_selection import train_test_split"
   ]
  },
  {
   "cell_type": "code",
   "execution_count": 228,
   "id": "aa0d8d9a",
   "metadata": {},
   "outputs": [],
   "source": [
    "df_fulltrain, df_test = train_test_split(df, test_size = 0.2, random_state = 42)\n",
    "df_train, df_val = train_test_split(df_fulltrain, test_size = 0.25, random_state = 42)\n",
    "\n",
    "df_fulltrain = df_fulltrain.reset_index(drop = True)\n",
    "df_train = df_train.reset_index(drop = True)\n",
    "df_val = df_val.reset_index(drop = True)\n",
    "df_test = df_test.reset_index(drop = True)"
   ]
  },
  {
   "cell_type": "code",
   "execution_count": 229,
   "id": "39bd0b12",
   "metadata": {},
   "outputs": [
    {
     "data": {
      "text/plain": [
       "(12384, 4128, 4128)"
      ]
     },
     "execution_count": 229,
     "metadata": {},
     "output_type": "execute_result"
    }
   ],
   "source": [
    "len(df_train), len(df_val), len(df_test)"
   ]
  },
  {
   "cell_type": "code",
   "execution_count": 230,
   "id": "bdcf241b",
   "metadata": {},
   "outputs": [],
   "source": [
    "y_fulltrain = df_fulltrain['median_house_value']\n",
    "y_train = df_train['median_house_value']\n",
    "y_val = df_val['median_house_value']\n",
    "y_test = df_test['median_house_value']\n",
    "\n",
    "del df_fulltrain['median_house_value']\n",
    "del df_train['median_house_value']\n",
    "del df_val['median_house_value']\n",
    "del df_test['median_house_value']"
   ]
  },
  {
   "cell_type": "code",
   "execution_count": 231,
   "id": "e5231fdc",
   "metadata": {},
   "outputs": [],
   "source": [
    "from sklearn.feature_extraction import DictVectorizer"
   ]
  },
  {
   "cell_type": "code",
   "execution_count": 261,
   "id": "97aca1c9",
   "metadata": {},
   "outputs": [],
   "source": [
    "dv = DictVectorizer(sparse=False)\n",
    "\n",
    "train_dict = df_train[categorical + numerical].to_dict(orient='records')\n",
    "X_train = dv.fit_transform(train_dict)\n",
    "\n",
    "val_dict = df_val[categorical + numerical].to_dict(orient='records')\n",
    "X_val = dv.transform(val_dict)"
   ]
  },
  {
   "cell_type": "code",
   "execution_count": 262,
   "id": "03c7f553",
   "metadata": {},
   "outputs": [],
   "source": [
    "from sklearn.linear_model import LogisticRegression"
   ]
  },
  {
   "cell_type": "code",
   "execution_count": 263,
   "id": "d01e0c56",
   "metadata": {},
   "outputs": [],
   "source": [
    "model = LogisticRegression(solver=\"liblinear\", C=1.0, max_iter=1000, random_state=42)"
   ]
  },
  {
   "cell_type": "code",
   "execution_count": 264,
   "id": "4e6f7ec1",
   "metadata": {},
   "outputs": [
    {
     "data": {
      "text/html": [
       "<style>#sk-container-id-2 {color: black;background-color: white;}#sk-container-id-2 pre{padding: 0;}#sk-container-id-2 div.sk-toggleable {background-color: white;}#sk-container-id-2 label.sk-toggleable__label {cursor: pointer;display: block;width: 100%;margin-bottom: 0;padding: 0.3em;box-sizing: border-box;text-align: center;}#sk-container-id-2 label.sk-toggleable__label-arrow:before {content: \"▸\";float: left;margin-right: 0.25em;color: #696969;}#sk-container-id-2 label.sk-toggleable__label-arrow:hover:before {color: black;}#sk-container-id-2 div.sk-estimator:hover label.sk-toggleable__label-arrow:before {color: black;}#sk-container-id-2 div.sk-toggleable__content {max-height: 0;max-width: 0;overflow: hidden;text-align: left;background-color: #f0f8ff;}#sk-container-id-2 div.sk-toggleable__content pre {margin: 0.2em;color: black;border-radius: 0.25em;background-color: #f0f8ff;}#sk-container-id-2 input.sk-toggleable__control:checked~div.sk-toggleable__content {max-height: 200px;max-width: 100%;overflow: auto;}#sk-container-id-2 input.sk-toggleable__control:checked~label.sk-toggleable__label-arrow:before {content: \"▾\";}#sk-container-id-2 div.sk-estimator input.sk-toggleable__control:checked~label.sk-toggleable__label {background-color: #d4ebff;}#sk-container-id-2 div.sk-label input.sk-toggleable__control:checked~label.sk-toggleable__label {background-color: #d4ebff;}#sk-container-id-2 input.sk-hidden--visually {border: 0;clip: rect(1px 1px 1px 1px);clip: rect(1px, 1px, 1px, 1px);height: 1px;margin: -1px;overflow: hidden;padding: 0;position: absolute;width: 1px;}#sk-container-id-2 div.sk-estimator {font-family: monospace;background-color: #f0f8ff;border: 1px dotted black;border-radius: 0.25em;box-sizing: border-box;margin-bottom: 0.5em;}#sk-container-id-2 div.sk-estimator:hover {background-color: #d4ebff;}#sk-container-id-2 div.sk-parallel-item::after {content: \"\";width: 100%;border-bottom: 1px solid gray;flex-grow: 1;}#sk-container-id-2 div.sk-label:hover label.sk-toggleable__label {background-color: #d4ebff;}#sk-container-id-2 div.sk-serial::before {content: \"\";position: absolute;border-left: 1px solid gray;box-sizing: border-box;top: 0;bottom: 0;left: 50%;z-index: 0;}#sk-container-id-2 div.sk-serial {display: flex;flex-direction: column;align-items: center;background-color: white;padding-right: 0.2em;padding-left: 0.2em;position: relative;}#sk-container-id-2 div.sk-item {position: relative;z-index: 1;}#sk-container-id-2 div.sk-parallel {display: flex;align-items: stretch;justify-content: center;background-color: white;position: relative;}#sk-container-id-2 div.sk-item::before, #sk-container-id-2 div.sk-parallel-item::before {content: \"\";position: absolute;border-left: 1px solid gray;box-sizing: border-box;top: 0;bottom: 0;left: 50%;z-index: -1;}#sk-container-id-2 div.sk-parallel-item {display: flex;flex-direction: column;z-index: 1;position: relative;background-color: white;}#sk-container-id-2 div.sk-parallel-item:first-child::after {align-self: flex-end;width: 50%;}#sk-container-id-2 div.sk-parallel-item:last-child::after {align-self: flex-start;width: 50%;}#sk-container-id-2 div.sk-parallel-item:only-child::after {width: 0;}#sk-container-id-2 div.sk-dashed-wrapped {border: 1px dashed gray;margin: 0 0.4em 0.5em 0.4em;box-sizing: border-box;padding-bottom: 0.4em;background-color: white;}#sk-container-id-2 div.sk-label label {font-family: monospace;font-weight: bold;display: inline-block;line-height: 1.2em;}#sk-container-id-2 div.sk-label-container {text-align: center;}#sk-container-id-2 div.sk-container {/* jupyter's `normalize.less` sets `[hidden] { display: none; }` but bootstrap.min.css set `[hidden] { display: none !important; }` so we also need the `!important` here to be able to override the default hidden behavior on the sphinx rendered scikit-learn.org. See: https://github.com/scikit-learn/scikit-learn/issues/21755 */display: inline-block !important;position: relative;}#sk-container-id-2 div.sk-text-repr-fallback {display: none;}</style><div id=\"sk-container-id-2\" class=\"sk-top-container\"><div class=\"sk-text-repr-fallback\"><pre>LogisticRegression(max_iter=1000, random_state=42, solver=&#x27;liblinear&#x27;)</pre><b>In a Jupyter environment, please rerun this cell to show the HTML representation or trust the notebook. <br />On GitHub, the HTML representation is unable to render, please try loading this page with nbviewer.org.</b></div><div class=\"sk-container\" hidden><div class=\"sk-item\"><div class=\"sk-estimator sk-toggleable\"><input class=\"sk-toggleable__control sk-hidden--visually\" id=\"sk-estimator-id-2\" type=\"checkbox\" checked><label for=\"sk-estimator-id-2\" class=\"sk-toggleable__label sk-toggleable__label-arrow\">LogisticRegression</label><div class=\"sk-toggleable__content\"><pre>LogisticRegression(max_iter=1000, random_state=42, solver=&#x27;liblinear&#x27;)</pre></div></div></div></div></div>"
      ],
      "text/plain": [
       "LogisticRegression(max_iter=1000, random_state=42, solver='liblinear')"
      ]
     },
     "execution_count": 264,
     "metadata": {},
     "output_type": "execute_result"
    }
   ],
   "source": [
    "model.fit(X_train, y_train)"
   ]
  },
  {
   "cell_type": "code",
   "execution_count": 265,
   "id": "f1571092",
   "metadata": {},
   "outputs": [
    {
     "data": {
      "text/plain": [
       "-0.083829188440655"
      ]
     },
     "execution_count": 265,
     "metadata": {},
     "output_type": "execute_result"
    }
   ],
   "source": [
    "model.intercept_[0]"
   ]
  },
  {
   "cell_type": "code",
   "execution_count": 266,
   "id": "378d69ea",
   "metadata": {},
   "outputs": [
    {
     "data": {
      "text/plain": [
       "array([ 0.181,  0.004,  0.036,  0.116,  0.087,  1.212,  0.473, -1.715,\n",
       "        0.019,  0.292,  0.847, -0.002,  0.01 , -0.014,  0.002, -0.   ])"
      ]
     },
     "execution_count": 266,
     "metadata": {},
     "output_type": "execute_result"
    }
   ],
   "source": [
    "model.coef_[0].round(3)"
   ]
  },
  {
   "cell_type": "code",
   "execution_count": 267,
   "id": "3986d777",
   "metadata": {},
   "outputs": [],
   "source": [
    "y_pred = model.predict_proba(X_val)[:, 1]"
   ]
  },
  {
   "cell_type": "code",
   "execution_count": 268,
   "id": "bb29ea27",
   "metadata": {},
   "outputs": [
    {
     "data": {
      "text/plain": [
       "array([0.07908992, 0.1749244 , 0.95259667, ..., 0.96131742, 0.85202637,\n",
       "       0.47117608])"
      ]
     },
     "execution_count": 268,
     "metadata": {},
     "output_type": "execute_result"
    }
   ],
   "source": [
    "y_pred"
   ]
  },
  {
   "cell_type": "code",
   "execution_count": 269,
   "id": "3adc01f3",
   "metadata": {},
   "outputs": [],
   "source": [
    "y_hardpred = (y_pred >= 0.5)"
   ]
  },
  {
   "cell_type": "code",
   "execution_count": 270,
   "id": "65dcdd0b",
   "metadata": {},
   "outputs": [],
   "source": [
    "orig_score = (y_val == y_hardpred).mean()"
   ]
  },
  {
   "cell_type": "code",
   "execution_count": 271,
   "id": "ebc0ae56",
   "metadata": {},
   "outputs": [
    {
     "data": {
      "text/plain": [
       "0.8362403100775194"
      ]
     },
     "execution_count": 271,
     "metadata": {},
     "output_type": "execute_result"
    }
   ],
   "source": [
    "orig_score"
   ]
  },
  {
   "cell_type": "markdown",
   "id": "e3506820",
   "metadata": {},
   "source": [
    "Answer: 0.84"
   ]
  },
  {
   "cell_type": "markdown",
   "id": "2e945fc3",
   "metadata": {},
   "source": [
    "## Question 5\n",
    "Let's find the least useful feature using the feature elimination technique.\n",
    "Train a model with all these features (using the same parameters as in Q4).\n",
    "Now exclude each feature from this set and train a model without it. Record the accuracy for each model.\n",
    "For each feature, calculate the difference between the original accuracy and the accuracy without the feature.\n",
    "\n",
    "Which of following feature has the smallest difference?\n",
    "- total_rooms\n",
    "- total_bedrooms\n",
    "- population\n",
    "- households\n",
    "\n",
    "note: the difference doesn't have to be positive"
   ]
  },
  {
   "cell_type": "code",
   "execution_count": 253,
   "id": "f511d271",
   "metadata": {},
   "outputs": [],
   "source": [
    "features = numerical + categorical"
   ]
  },
  {
   "cell_type": "code",
   "execution_count": 254,
   "id": "37f3d96a",
   "metadata": {},
   "outputs": [
    {
     "data": {
      "text/plain": [
       "['latitude',\n",
       " 'longitude',\n",
       " 'housing_median_age',\n",
       " 'total_rooms',\n",
       " 'total_bedrooms',\n",
       " 'population',\n",
       " 'households',\n",
       " 'median_income',\n",
       " 'rooms_per_household',\n",
       " 'bedrooms_per_room',\n",
       " 'population_per_household',\n",
       " 'ocean_proximity']"
      ]
     },
     "execution_count": 254,
     "metadata": {},
     "output_type": "execute_result"
    }
   ],
   "source": [
    "features"
   ]
  },
  {
   "cell_type": "code",
   "execution_count": 259,
   "id": "04e88633",
   "metadata": {},
   "outputs": [],
   "source": [
    "score = []\n",
    "for i in features:\n",
    "    dv = DictVectorizer(sparse=False)\n",
    "\n",
    "    train_dict = df_train.drop(i, axis=1).to_dict(orient='records')\n",
    "    X_train = dv.fit_transform(train_dict)\n",
    "\n",
    "    val_dict = df_val.drop(i, axis=1).to_dict(orient='records')\n",
    "    X_val = dv.transform(val_dict)\n",
    "    \n",
    "    model.fit(X_train, y_train)\n",
    "    \n",
    "    y_pred = model.predict_proba(X_val)[:, 1]\n",
    "    \n",
    "    y_hardpred = (y_pred >= 0.5)\n",
    "    \n",
    "    current_score = (y_val == y_hardpred).mean()\n",
    "    \n",
    "    score.append(current_score)"
   ]
  },
  {
   "cell_type": "code",
   "execution_count": 260,
   "id": "05077f12",
   "metadata": {},
   "outputs": [
    {
     "data": {
      "text/plain": [
       "[0.8338178294573644,\n",
       " 0.8311531007751938,\n",
       " 0.8313953488372093,\n",
       " 0.8369670542635659,\n",
       " 0.8357558139534884,\n",
       " 0.8263081395348837,\n",
       " 0.8330910852713178,\n",
       " 0.7863372093023255,\n",
       " 0.8355135658914729,\n",
       " 0.8347868217054264,\n",
       " 0.8367248062015504,\n",
       " 0.8195251937984496]"
      ]
     },
     "execution_count": 260,
     "metadata": {},
     "output_type": "execute_result"
    }
   ],
   "source": [
    "score"
   ]
  },
  {
   "cell_type": "code",
   "execution_count": 272,
   "id": "1f41c7c9",
   "metadata": {},
   "outputs": [],
   "source": [
    "diff = score - orig_score"
   ]
  },
  {
   "cell_type": "code",
   "execution_count": 273,
   "id": "d943d7d7",
   "metadata": {},
   "outputs": [
    {
     "data": {
      "text/plain": [
       "array([-0.00242248, -0.00508721, -0.00484496,  0.00072674, -0.0004845 ,\n",
       "       -0.00993217, -0.00314922, -0.0499031 , -0.00072674, -0.00145349,\n",
       "        0.0004845 , -0.01671512])"
      ]
     },
     "execution_count": 273,
     "metadata": {},
     "output_type": "execute_result"
    }
   ],
   "source": [
    "diff"
   ]
  },
  {
   "cell_type": "markdown",
   "id": "57f33c91",
   "metadata": {},
   "source": [
    "Answer: total_bedrooms"
   ]
  },
  {
   "cell_type": "markdown",
   "id": "86a51e48",
   "metadata": {},
   "source": [
    "## Question 6\n",
    "\n",
    "For this question, we'll see how to use a linear regression model from Scikit-Learn\n",
    "We'll need to use the original column 'median_house_value'. Apply the logarithmic transformation to this column.\n",
    "Fit the Ridge regression model (model = Ridge(alpha=a, solver=\"sag\", random_state=42)) on the training data.\n",
    "This model has a parameter alpha. Let's try the following values: [0, 0.01, 0.1, 1, 10]\n",
    "Which of these alphas leads to the best RMSE on the validation set? Round your RMSE scores to 3 decimal digits.\n",
    "If there are multiple options, select the smallest alpha.\n",
    "\n",
    "Options:\n",
    "- 0\n",
    "- 0.01\n",
    "- 0.1\n",
    "- 1\n",
    "- 10"
   ]
  },
  {
   "cell_type": "code",
   "execution_count": 320,
   "id": "2333ade5",
   "metadata": {},
   "outputs": [],
   "source": [
    "new_df = data[columns]"
   ]
  },
  {
   "cell_type": "code",
   "execution_count": 329,
   "id": "5635a82b",
   "metadata": {},
   "outputs": [],
   "source": [
    "new_df = new_df.fillna(0)"
   ]
  },
  {
   "cell_type": "code",
   "execution_count": 330,
   "id": "41886289",
   "metadata": {},
   "outputs": [],
   "source": [
    "new_df['rooms_per_household'] = new_df['total_rooms'] / new_df['households']\n",
    "new_df['bedrooms_per_room'] = new_df['total_bedrooms'] / new_df['total_rooms'] \n",
    "new_df['population_per_household'] = new_df['population'] / new_df['households']"
   ]
  },
  {
   "cell_type": "code",
   "execution_count": 331,
   "id": "a6b8887d",
   "metadata": {},
   "outputs": [
    {
     "data": {
      "text/html": [
       "<div>\n",
       "<style scoped>\n",
       "    .dataframe tbody tr th:only-of-type {\n",
       "        vertical-align: middle;\n",
       "    }\n",
       "\n",
       "    .dataframe tbody tr th {\n",
       "        vertical-align: top;\n",
       "    }\n",
       "\n",
       "    .dataframe thead th {\n",
       "        text-align: right;\n",
       "    }\n",
       "</style>\n",
       "<table border=\"1\" class=\"dataframe\">\n",
       "  <thead>\n",
       "    <tr style=\"text-align: right;\">\n",
       "      <th></th>\n",
       "      <th>latitude</th>\n",
       "      <th>longitude</th>\n",
       "      <th>housing_median_age</th>\n",
       "      <th>total_rooms</th>\n",
       "      <th>total_bedrooms</th>\n",
       "      <th>population</th>\n",
       "      <th>households</th>\n",
       "      <th>median_income</th>\n",
       "      <th>median_house_value</th>\n",
       "      <th>ocean_proximity</th>\n",
       "      <th>rooms_per_household</th>\n",
       "      <th>bedrooms_per_room</th>\n",
       "      <th>population_per_household</th>\n",
       "    </tr>\n",
       "  </thead>\n",
       "  <tbody>\n",
       "    <tr>\n",
       "      <th>0</th>\n",
       "      <td>37.88</td>\n",
       "      <td>-122.23</td>\n",
       "      <td>41.0</td>\n",
       "      <td>880.0</td>\n",
       "      <td>129.0</td>\n",
       "      <td>322.0</td>\n",
       "      <td>126.0</td>\n",
       "      <td>8.3252</td>\n",
       "      <td>13.022766</td>\n",
       "      <td>NEAR BAY</td>\n",
       "      <td>6.984127</td>\n",
       "      <td>0.146591</td>\n",
       "      <td>2.555556</td>\n",
       "    </tr>\n",
       "    <tr>\n",
       "      <th>1</th>\n",
       "      <td>37.86</td>\n",
       "      <td>-122.22</td>\n",
       "      <td>21.0</td>\n",
       "      <td>7099.0</td>\n",
       "      <td>1106.0</td>\n",
       "      <td>2401.0</td>\n",
       "      <td>1138.0</td>\n",
       "      <td>8.3014</td>\n",
       "      <td>12.789687</td>\n",
       "      <td>NEAR BAY</td>\n",
       "      <td>6.238137</td>\n",
       "      <td>0.155797</td>\n",
       "      <td>2.109842</td>\n",
       "    </tr>\n",
       "    <tr>\n",
       "      <th>2</th>\n",
       "      <td>37.85</td>\n",
       "      <td>-122.24</td>\n",
       "      <td>52.0</td>\n",
       "      <td>1467.0</td>\n",
       "      <td>190.0</td>\n",
       "      <td>496.0</td>\n",
       "      <td>177.0</td>\n",
       "      <td>7.2574</td>\n",
       "      <td>12.771673</td>\n",
       "      <td>NEAR BAY</td>\n",
       "      <td>8.288136</td>\n",
       "      <td>0.129516</td>\n",
       "      <td>2.802260</td>\n",
       "    </tr>\n",
       "    <tr>\n",
       "      <th>3</th>\n",
       "      <td>37.85</td>\n",
       "      <td>-122.25</td>\n",
       "      <td>52.0</td>\n",
       "      <td>1274.0</td>\n",
       "      <td>235.0</td>\n",
       "      <td>558.0</td>\n",
       "      <td>219.0</td>\n",
       "      <td>5.6431</td>\n",
       "      <td>12.740520</td>\n",
       "      <td>NEAR BAY</td>\n",
       "      <td>5.817352</td>\n",
       "      <td>0.184458</td>\n",
       "      <td>2.547945</td>\n",
       "    </tr>\n",
       "    <tr>\n",
       "      <th>4</th>\n",
       "      <td>37.85</td>\n",
       "      <td>-122.25</td>\n",
       "      <td>52.0</td>\n",
       "      <td>1627.0</td>\n",
       "      <td>280.0</td>\n",
       "      <td>565.0</td>\n",
       "      <td>259.0</td>\n",
       "      <td>3.8462</td>\n",
       "      <td>12.743154</td>\n",
       "      <td>NEAR BAY</td>\n",
       "      <td>6.281853</td>\n",
       "      <td>0.172096</td>\n",
       "      <td>2.181467</td>\n",
       "    </tr>\n",
       "    <tr>\n",
       "      <th>...</th>\n",
       "      <td>...</td>\n",
       "      <td>...</td>\n",
       "      <td>...</td>\n",
       "      <td>...</td>\n",
       "      <td>...</td>\n",
       "      <td>...</td>\n",
       "      <td>...</td>\n",
       "      <td>...</td>\n",
       "      <td>...</td>\n",
       "      <td>...</td>\n",
       "      <td>...</td>\n",
       "      <td>...</td>\n",
       "      <td>...</td>\n",
       "    </tr>\n",
       "    <tr>\n",
       "      <th>20635</th>\n",
       "      <td>39.48</td>\n",
       "      <td>-121.09</td>\n",
       "      <td>25.0</td>\n",
       "      <td>1665.0</td>\n",
       "      <td>374.0</td>\n",
       "      <td>845.0</td>\n",
       "      <td>330.0</td>\n",
       "      <td>1.5603</td>\n",
       "      <td>11.265758</td>\n",
       "      <td>INLAND</td>\n",
       "      <td>5.045455</td>\n",
       "      <td>0.224625</td>\n",
       "      <td>2.560606</td>\n",
       "    </tr>\n",
       "    <tr>\n",
       "      <th>20636</th>\n",
       "      <td>39.49</td>\n",
       "      <td>-121.21</td>\n",
       "      <td>18.0</td>\n",
       "      <td>697.0</td>\n",
       "      <td>150.0</td>\n",
       "      <td>356.0</td>\n",
       "      <td>114.0</td>\n",
       "      <td>2.5568</td>\n",
       "      <td>11.252872</td>\n",
       "      <td>INLAND</td>\n",
       "      <td>6.114035</td>\n",
       "      <td>0.215208</td>\n",
       "      <td>3.122807</td>\n",
       "    </tr>\n",
       "    <tr>\n",
       "      <th>20637</th>\n",
       "      <td>39.43</td>\n",
       "      <td>-121.22</td>\n",
       "      <td>17.0</td>\n",
       "      <td>2254.0</td>\n",
       "      <td>485.0</td>\n",
       "      <td>1007.0</td>\n",
       "      <td>433.0</td>\n",
       "      <td>1.7000</td>\n",
       "      <td>11.432810</td>\n",
       "      <td>INLAND</td>\n",
       "      <td>5.205543</td>\n",
       "      <td>0.215173</td>\n",
       "      <td>2.325635</td>\n",
       "    </tr>\n",
       "    <tr>\n",
       "      <th>20638</th>\n",
       "      <td>39.43</td>\n",
       "      <td>-121.32</td>\n",
       "      <td>18.0</td>\n",
       "      <td>1860.0</td>\n",
       "      <td>409.0</td>\n",
       "      <td>741.0</td>\n",
       "      <td>349.0</td>\n",
       "      <td>1.8672</td>\n",
       "      <td>11.346883</td>\n",
       "      <td>INLAND</td>\n",
       "      <td>5.329513</td>\n",
       "      <td>0.219892</td>\n",
       "      <td>2.123209</td>\n",
       "    </tr>\n",
       "    <tr>\n",
       "      <th>20639</th>\n",
       "      <td>39.37</td>\n",
       "      <td>-121.24</td>\n",
       "      <td>16.0</td>\n",
       "      <td>2785.0</td>\n",
       "      <td>616.0</td>\n",
       "      <td>1387.0</td>\n",
       "      <td>530.0</td>\n",
       "      <td>2.3886</td>\n",
       "      <td>11.400887</td>\n",
       "      <td>INLAND</td>\n",
       "      <td>5.254717</td>\n",
       "      <td>0.221185</td>\n",
       "      <td>2.616981</td>\n",
       "    </tr>\n",
       "  </tbody>\n",
       "</table>\n",
       "<p>20640 rows × 13 columns</p>\n",
       "</div>"
      ],
      "text/plain": [
       "       latitude  longitude  housing_median_age  total_rooms  total_bedrooms  \\\n",
       "0         37.88    -122.23                41.0        880.0           129.0   \n",
       "1         37.86    -122.22                21.0       7099.0          1106.0   \n",
       "2         37.85    -122.24                52.0       1467.0           190.0   \n",
       "3         37.85    -122.25                52.0       1274.0           235.0   \n",
       "4         37.85    -122.25                52.0       1627.0           280.0   \n",
       "...         ...        ...                 ...          ...             ...   \n",
       "20635     39.48    -121.09                25.0       1665.0           374.0   \n",
       "20636     39.49    -121.21                18.0        697.0           150.0   \n",
       "20637     39.43    -121.22                17.0       2254.0           485.0   \n",
       "20638     39.43    -121.32                18.0       1860.0           409.0   \n",
       "20639     39.37    -121.24                16.0       2785.0           616.0   \n",
       "\n",
       "       population  households  median_income  median_house_value  \\\n",
       "0           322.0       126.0         8.3252           13.022766   \n",
       "1          2401.0      1138.0         8.3014           12.789687   \n",
       "2           496.0       177.0         7.2574           12.771673   \n",
       "3           558.0       219.0         5.6431           12.740520   \n",
       "4           565.0       259.0         3.8462           12.743154   \n",
       "...           ...         ...            ...                 ...   \n",
       "20635       845.0       330.0         1.5603           11.265758   \n",
       "20636       356.0       114.0         2.5568           11.252872   \n",
       "20637      1007.0       433.0         1.7000           11.432810   \n",
       "20638       741.0       349.0         1.8672           11.346883   \n",
       "20639      1387.0       530.0         2.3886           11.400887   \n",
       "\n",
       "      ocean_proximity  rooms_per_household  bedrooms_per_room  \\\n",
       "0            NEAR BAY             6.984127           0.146591   \n",
       "1            NEAR BAY             6.238137           0.155797   \n",
       "2            NEAR BAY             8.288136           0.129516   \n",
       "3            NEAR BAY             5.817352           0.184458   \n",
       "4            NEAR BAY             6.281853           0.172096   \n",
       "...               ...                  ...                ...   \n",
       "20635          INLAND             5.045455           0.224625   \n",
       "20636          INLAND             6.114035           0.215208   \n",
       "20637          INLAND             5.205543           0.215173   \n",
       "20638          INLAND             5.329513           0.219892   \n",
       "20639          INLAND             5.254717           0.221185   \n",
       "\n",
       "       population_per_household  \n",
       "0                      2.555556  \n",
       "1                      2.109842  \n",
       "2                      2.802260  \n",
       "3                      2.547945  \n",
       "4                      2.181467  \n",
       "...                         ...  \n",
       "20635                  2.560606  \n",
       "20636                  3.122807  \n",
       "20637                  2.325635  \n",
       "20638                  2.123209  \n",
       "20639                  2.616981  \n",
       "\n",
       "[20640 rows x 13 columns]"
      ]
     },
     "execution_count": 331,
     "metadata": {},
     "output_type": "execute_result"
    }
   ],
   "source": [
    "new_df"
   ]
  },
  {
   "cell_type": "code",
   "execution_count": 332,
   "id": "1ab795f5",
   "metadata": {},
   "outputs": [],
   "source": [
    "new_df['median_house_value'] = np.log1p(new_df['median_house_value'])"
   ]
  },
  {
   "cell_type": "code",
   "execution_count": 333,
   "id": "0c7c38d9",
   "metadata": {},
   "outputs": [],
   "source": [
    "df_fulltrain, df_test = train_test_split(new_df, test_size = 0.2, random_state = 42)\n",
    "df_train, df_val = train_test_split(df_fulltrain, test_size = 0.25, random_state = 42)\n",
    "\n",
    "df_fulltrain = df_fulltrain.reset_index(drop = True)\n",
    "df_train = df_train.reset_index(drop = True)\n",
    "df_val = df_val.reset_index(drop = True)\n",
    "df_test = df_test.reset_index(drop = True)"
   ]
  },
  {
   "cell_type": "code",
   "execution_count": 334,
   "id": "ff624835",
   "metadata": {},
   "outputs": [
    {
     "data": {
      "text/plain": [
       "(12384, 4128, 4128)"
      ]
     },
     "execution_count": 334,
     "metadata": {},
     "output_type": "execute_result"
    }
   ],
   "source": [
    "len(df_train), len(df_val), len(df_test)"
   ]
  },
  {
   "cell_type": "code",
   "execution_count": 335,
   "id": "062ab889",
   "metadata": {},
   "outputs": [],
   "source": [
    "y_fulltrain = df_fulltrain['median_house_value']\n",
    "y_train = df_train['median_house_value']\n",
    "y_val = df_val['median_house_value']\n",
    "y_test = df_test['median_house_value']\n",
    "\n",
    "del df_fulltrain['median_house_value']\n",
    "del df_train['median_house_value']\n",
    "del df_val['median_house_value']\n",
    "del df_test['median_house_value']"
   ]
  },
  {
   "cell_type": "code",
   "execution_count": 336,
   "id": "19656861",
   "metadata": {},
   "outputs": [],
   "source": [
    "from sklearn.linear_model import Ridge\n",
    "from sklearn.metrics import mean_squared_error"
   ]
  },
  {
   "cell_type": "code",
   "execution_count": 337,
   "id": "a00f85d9",
   "metadata": {},
   "outputs": [],
   "source": [
    "alpha_values = [0, 0.01, 0.1, 1, 10]\n",
    "\n",
    "rmse = []\n",
    "for a in alpha_values:\n",
    "    ## One-hot encoding\n",
    "    dv = DictVectorizer(sparse=False)\n",
    "\n",
    "    train_dict = df_train[categorical + numerical].to_dict(orient='records')\n",
    "    X_train = dv.fit_transform(train_dict)\n",
    "\n",
    "    val_dict = df_val[categorical + numerical].to_dict(orient='records')\n",
    "    X_val = dv.transform(val_dict)\n",
    "    \n",
    "    ## Model Training\n",
    "    model = Ridge(alpha=a, solver=\"sag\", random_state=42)\n",
    "    \n",
    "    model.fit(X_train, y_train)\n",
    "    \n",
    "    pred = model.predict(X_val)\n",
    "    \n",
    "    rmse_score = np.sqrt(mean_squared_error(y_test,pred))\n",
    "    \n",
    "    rmse.append(rmse_score)           "
   ]
  },
  {
   "cell_type": "code",
   "execution_count": 338,
   "id": "e3461b87",
   "metadata": {},
   "outputs": [
    {
     "data": {
      "text/plain": [
       "[0.04661912797387294,\n",
       " 0.04661912797297334,\n",
       " 0.046619127964429206,\n",
       " 0.046619127878536774,\n",
       " 0.04661912702096303]"
      ]
     },
     "execution_count": 338,
     "metadata": {},
     "output_type": "execute_result"
    }
   ],
   "source": [
    "rmse"
   ]
  },
  {
   "cell_type": "markdown",
   "id": "c75f62fc",
   "metadata": {},
   "source": [
    "Answer: 0"
   ]
  },
  {
   "cell_type": "code",
   "execution_count": null,
   "id": "ce06cd08",
   "metadata": {},
   "outputs": [],
   "source": []
  }
 ],
 "metadata": {
  "kernelspec": {
   "display_name": "Python 3 (ipykernel)",
   "language": "python",
   "name": "python3"
  },
  "language_info": {
   "codemirror_mode": {
    "name": "ipython",
    "version": 3
   },
   "file_extension": ".py",
   "mimetype": "text/x-python",
   "name": "python",
   "nbconvert_exporter": "python",
   "pygments_lexer": "ipython3",
   "version": "3.10.4"
  }
 },
 "nbformat": 4,
 "nbformat_minor": 5
}
